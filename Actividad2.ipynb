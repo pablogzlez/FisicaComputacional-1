{
  "nbformat": 4,
  "nbformat_minor": 0,
  "metadata": {
    "colab": {
      "name": "Actividad2.ipynb",
      "provenance": [],
      "collapsed_sections": [],
      "authorship_tag": "ABX9TyMtemWRDsKn+gfmVc4ZFXYf",
      "include_colab_link": true
    },
    "kernelspec": {
      "display_name": "Python 3",
      "name": "python3"
    }
  },
  "cells": [
    {
      "cell_type": "markdown",
      "metadata": {
        "id": "view-in-github",
        "colab_type": "text"
      },
      "source": [
        "<a href=\"https://colab.research.google.com/github/pablogzlez/FisicaComputacional-1/blob/main/Actividad2.ipynb\" target=\"_parent\"><img src=\"https://colab.research.google.com/assets/colab-badge.svg\" alt=\"Open In Colab\"/></a>"
      ]
    },
    {
      "cell_type": "markdown",
      "metadata": {
        "id": "jsuinI765fFC"
      },
      "source": [
        "# **Primer programa de Python**"
      ]
    },
    {
      "cell_type": "markdown",
      "metadata": {
        "id": "UgN9IzxP9nEw"
      },
      "source": [
        "Nota: desarrolar TODOS los códigos en un sólo cuaderno te trabajo.\n",
        "Luego elaborar el archivo en latex Overleaf del reporte de actividad esta semana."
      ]
    },
    {
      "cell_type": "code",
      "metadata": {
        "id": "bzySr6DB5Awh"
      },
      "source": [
        "# Aquí agregamos las bibliotecas \n",
        "import numpy  as np "
      ],
      "execution_count": null,
      "outputs": []
    },
    {
      "cell_type": "code",
      "metadata": {
        "colab": {
          "base_uri": "https://localhost:8080/"
        },
        "id": "PJTIuhLi65_G",
        "outputId": "abf68caf-33db-4bf2-9ec5-b76112b1fa52"
      },
      "source": [
        "# Se utiliza el símbolo # para hacer comentarios.\n",
        "# Se define una función de 2 variables para calcular el área.  \n",
        "def area(x, y):\n",
        "    return x*y\n",
        "\n",
        "# Área de un rectángulo\n",
        "print(\"Proporciona el largo y altura del rectángulo:\", end=\"\")\n",
        "l = float(input())\n",
        "w = float(input())\n",
        "a = area(l, w)\n",
        "# Imprime el valor del área en formato libre.\n",
        "print(\"\\nArea = \", a)\n",
        "# Imprime el valor del área con 2 decimales. \n",
        "print(\"\\nArea = {:.2f}\".format(a))"
      ],
      "execution_count": null,
      "outputs": [
        {
          "output_type": "stream",
          "text": [
            "Proporciona el largo y altura del rectángulo:5\n",
            "4\n",
            "\n",
            "Area =  20.0\n",
            "\n",
            "Area = 20.00\n"
          ],
          "name": "stdout"
        }
      ]
    },
    {
      "cell_type": "code",
      "metadata": {
        "colab": {
          "base_uri": "https://localhost:8080/"
        },
        "id": "jn8gZVAG7RYm",
        "outputId": "06713c65-927b-4133-9297-86654822c1e8"
      },
      "source": [
        "4print(np.pi)"
      ],
      "execution_count": null,
      "outputs": [
        {
          "output_type": "stream",
          "text": [
            "3.141592653589793\n"
          ],
          "name": "stdout"
        }
      ]
    },
    {
      "cell_type": "markdown",
      "metadata": {
        "id": "zGbqpXD0-smK"
      },
      "source": [
        "## DESARROLLO DE LA ACTIVIDAD"
      ]
    },
    {
      "cell_type": "markdown",
      "metadata": {
        "id": "jS65LpWkBmmU"
      },
      "source": [
        "Ejercicio 1. Se proporcionó el programa para calcular el área de un rectángulo.\n",
        "\n",
        "Ahora se modificará el código para obtener:\n",
        "\n",
        "1. Área de: un círculo y  una elipse.\n",
        "2. Volumen de: una esfera y el de un cilindro\n",
        "circular. \n",
        "3. Antes de cada celda donde se calcule un área o volumen,inserte una descripción de lo que se hace, utilizando notación Latex para las ecuaciones o símbolos. "
      ]
    },
    {
      "cell_type": "code",
      "metadata": {
        "colab": {
          "base_uri": "https://localhost:8080/"
        },
        "id": "ZozTRx1m-71G",
        "outputId": "ec44a708-e43d-4a84-ed48-4f142b69af65"
      },
      "source": [
        "# ÁREA DEl CÍRCULO\n",
        "# Se define una función de 2 variables para calcular el área.  \n",
        "def area(r):\n",
        "    return r**2 * np.pi\n",
        "\n",
        "# Área de un círculo\n",
        "print(\"Proporciona el radio del círculo: \", end=\"\")\n",
        "r = float(input())\n",
        "a = area(r)\n",
        "# Imprime el valor del área en formato libre.\n",
        "print(\"\\nArea = \", a)\n",
        "# Imprime el valor del área con 2 decimales. \n",
        "print(\"\\nArea = {:.2f}\".format(a))"
      ],
      "execution_count": null,
      "outputs": [
        {
          "output_type": "stream",
          "text": [
            "Proporciona el radio del círculo: 5\n",
            "\n",
            "Area =  78.53981633974483\n",
            "\n",
            "Area = 78.54\n"
          ],
          "name": "stdout"
        }
      ]
    },
    {
      "cell_type": "code",
      "metadata": {
        "colab": {
          "base_uri": "https://localhost:8080/"
        },
        "id": "z0O4RwNQ_6D0",
        "outputId": "f9a9ab70-1813-456e-a6ba-0dc1e2148aa6"
      },
      "source": [
        "# ÁREA DE LA ELIPSE\n",
        "# Se define una función de 2 variables para calcular el área.  \n",
        "def area(r1,r2):\n",
        "    return r1*r2*np.pi\n",
        "\n",
        "# Área de la elipse\n",
        "print(\"Proporciona los semiejes menor y mayor de la elipse: \", end=\"\")\n",
        "r1 = float(input())\n",
        "r2 = float(input())\n",
        "a = area(r1,r2)\n",
        "# Imprime el valor del área en formato libre.\n",
        "print(\"\\nArea = \", a)\n",
        "# Imprime el valor del área con 2 decimales. \n",
        "print(\"\\nArea = {:.2f}\".format(a))"
      ],
      "execution_count": null,
      "outputs": [
        {
          "output_type": "stream",
          "text": [
            "Proporciona los semiejes menor y mayor de la elipse: 8\n",
            "13\n",
            "\n",
            "Area =  326.7256359733385\n",
            "\n",
            "Area = 326.73\n"
          ],
          "name": "stdout"
        }
      ]
    },
    {
      "cell_type": "markdown",
      "metadata": {
        "id": "R92BAzguBYbW"
      },
      "source": [
        "Ejercicio 2. Desarrollar un programa en Python que calcule las raíces de una ecuación cuadrática. \n",
        " \n",
        " $$ax^2 + bx+ c = 0, \\text{ con } a \\neq 0$$\n",
        "\n",
        "$$x = \\frac {-b \\pm \\sqrt{b^2 - 4ac}}{2a} $$ "
      ]
    },
    {
      "cell_type": "code",
      "metadata": {
        "colab": {
          "background_save": true,
          "base_uri": "https://localhost:8080/"
        },
        "id": "X8arfLAnBhOf",
        "outputId": "665c746f-2965-4bb1-8da7-650aff6dd470"
      },
      "source": [
        "# Raíces de una ecuación cuadrática\n",
        "# Se define una función cuadrática \n",
        "def raiz1(a,b,c):\n",
        "    return ( (-b)+( np.sqrt(b**2 - 4*a*c) ) ) / (2*a)\n",
        "def raiz2(a,b,c):\n",
        "    return ( (-b)-( np.sqrt(b**2 - 4*a*c) ) ) / (2*a)\n",
        "    \n",
        "\n",
        "# Coeficientes\n",
        "print(\"Proporciona los coeficientes a,b y c: \", end=\"\")\n",
        "a = float(input())\n",
        "b = float(input())\n",
        "c = float(input())\n",
        "x1 = raiz1(a,b,c)\n",
        "x2 = raiz1(a,b,c)\n",
        "\n",
        "# Imprime el valor de la raíz en formato libre.\n",
        "print(\"\\nRaíces = \", x1, x2)\n",
        "# Imprime el valor de la raíz con 2 decimales. \n",
        "# print(\"\\nRaíz = {:.2f}\".format(x1))"
      ],
      "execution_count": null,
      "outputs": [
        {
          "output_type": "error",
          "ename": "SyntaxError",
          "evalue": "ignored",
          "traceback": [
            "\u001b[0;36m  File \u001b[0;32m\"<ipython-input-23-05885e3754b4>\"\u001b[0;36m, line \u001b[0;32m18\u001b[0m\n\u001b[0;31m    print(\"\\nRaíces = \", x1, \", \" x2)\u001b[0m\n\u001b[0m                                   ^\u001b[0m\n\u001b[0;31mSyntaxError\u001b[0m\u001b[0;31m:\u001b[0m invalid syntax\n"
          ]
        }
      ]
    },
    {
      "cell_type": "code",
      "metadata": {
        "id": "GEYS2WtqEk_U"
      },
      "source": [
        ""
      ],
      "execution_count": null,
      "outputs": []
    }
  ]
}